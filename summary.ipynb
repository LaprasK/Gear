{
 "cells": [
  {
   "cell_type": "code",
   "execution_count": 26,
   "metadata": {
    "collapsed": false
   },
   "outputs": [],
   "source": [
    "pid = 23047"
   ]
  },
  {
   "cell_type": "code",
   "execution_count": 3,
   "metadata": {
    "collapsed": true
   },
   "outputs": [],
   "source": [
    "from __future__ import division"
   ]
  },
  {
   "cell_type": "code",
   "execution_count": 4,
   "metadata": {
    "collapsed": true
   },
   "outputs": [],
   "source": [
    "import numpy as np"
   ]
  },
  {
   "cell_type": "code",
   "execution_count": 5,
   "metadata": {
    "collapsed": true
   },
   "outputs": [],
   "source": [
    "%matplotlib inline\n",
    "from matplotlib import pyplot as plt, rc"
   ]
  },
  {
   "cell_type": "code",
   "execution_count": 6,
   "metadata": {
    "collapsed": true
   },
   "outputs": [],
   "source": [
    "rc('text', usetex=True)"
   ]
  },
  {
   "cell_type": "code",
   "execution_count": 7,
   "metadata": {
    "collapsed": true
   },
   "outputs": [],
   "source": [
    "savedir = '/Users/leewalsh/Physics/Squares/writing/graphics/'"
   ]
  },
  {
   "cell_type": "markdown",
   "metadata": {},
   "source": [
    "Tracking the transitions\n",
    "------------------------\n",
    "\n",
    "Make a dict `data` where each entry is some metric that has some transition. Each value should be an array of densities of interest, e.g. `[dens_lo, dens_c, dens_hi]`."
   ]
  },
  {
   "cell_type": "code",
   "execution_count": 21,
   "metadata": {
    "collapsed": false
   },
   "outputs": [],
   "source": [
    "data = {\n",
    "    r'\\Phi':   [0.620, 0.744, 0.787],\n",
    "    r'\\Delta': [0.613,        0.787],\n",
    "    r'g(r)':  [0.720, 0.735, 0.790],\n",
    "    r'\\Psi':   [0.830],\n",
    "    r'D_{tr}':  [0.650],\n",
    "    r'D_{rot}': [0.625],\n",
    "    r'D_{ratio}': [0.600, 0.640],\n",
    "    r'\\Phi-\\Phi \\tau': [0.712],\n",
    "    r'\\Psi-\\Psi \\tau': [0.764],   \n",
    "    r'g^\\phi_4':       [0.720],\n",
    "    r'g^\\psi_4':       [0.735],\n",
    "}"
   ]
  },
  {
   "cell_type": "code",
   "execution_count": 22,
   "metadata": {
    "collapsed": false
   },
   "outputs": [],
   "source": [
    "height = {\n",
    "    r'\\Phi':  1,\n",
    "    r'\\Delta': 2,\n",
    "    r'g^\\psi_4': 3,\n",
    "    r'D_{rot}': 4,\n",
    "    r'\\Phi-\\Phi \\tau': 5,\n",
    "    r'D_{ratio}': 6,\n",
    "    r'\\Psi':   7,\n",
    "    r'g^\\phi_4': 8,\n",
    "    r'D_{tr}':  9,\n",
    "    r'\\Psi-\\Psi \\tau': 10,\n",
    "    r'g(r)':  11,\n",
    "}"
   ]
  },
  {
   "cell_type": "code",
   "execution_count": 23,
   "metadata": {
    "collapsed": false
   },
   "outputs": [],
   "source": [
    "data = {k: np.asarray(v) for k, v in data.iteritems()}"
   ]
  },
  {
   "cell_type": "code",
   "execution_count": 24,
   "metadata": {
    "collapsed": false,
    "scrolled": false
   },
   "outputs": [
    {
     "data": {
      "image/png": "[encoded data removed]",
      "text/plain": [
       "<matplotlib.figure.Figure at 0x110ab6850>"
      ]
     },
     "metadata": {},
     "output_type": "display_data"
    }
   ],
   "source": [
    "for k in data:\n",
    "    xs = data[k]\n",
    "    y = height[k]\n",
    "    ys = y*np.ones_like(xs)\n",
    "    plt.plot(xs, ys, 'o-')\n",
    "    for x in xs:\n",
    "        plt.text(x - 0.01, y + 0.3, '{:.1%}'.format(x)[:-1])\n",
    "    plt.text(.53, y, r'${}$'.format(k))\n",
    "plt.ylim(0,12)\n",
    "plt.xlim(.5, .9)\n",
    "plt.xlabel(r'$\\rho$')\n",
    "plt.yticks([])\n",
    "plt.savefig(savedir+'transition_locations.pdf')"
   ]
  },
  {
   "cell_type": "code",
   "execution_count": 22,
   "metadata": {
    "collapsed": true
   },
   "outputs": [],
   "source": [
    "densities = np.array([ 0.51457468,  0.53312525,  0.56242684,  0.58430467,\n",
    "                       0.62029501,  0.6128287 ,  0.63037252,  0.63749976,\n",
    "                       0.65131972,  0.67012727,  0.68577812,  0.70148425,\n",
    "                       0.72676463,  0.74444065,  0.75938124,  0.76549662,\n",
    "                       0.78711727,  0.8220665 ,  0.86456497])"
   ]
  },
  {
   "cell_type": "code",
   "execution_count": 35,
   "metadata": {
    "collapsed": false
   },
   "outputs": [
    {
     "data": {
      "text/plain": [
       "array([[  0.        ,   0.51457468],\n",
       "       [  1.        ,   0.53312525],\n",
       "       [  2.        ,   0.56242684],\n",
       "       [  3.        ,   0.58430467],\n",
       "       [  4.        ,   0.62029501],\n",
       "       [  5.        ,   0.6128287 ],\n",
       "       [  6.        ,   0.63037252],\n",
       "       [  7.        ,   0.63749976],\n",
       "       [  8.        ,   0.65131972],\n",
       "       [  9.        ,   0.67012727],\n",
       "       [ 10.        ,   0.68577812],\n",
       "       [ 11.        ,   0.70148425],\n",
       "       [ 12.        ,   0.72676463],\n",
       "       [ 13.        ,   0.74444065],\n",
       "       [ 14.        ,   0.75938124],\n",
       "       [ 15.        ,   0.76549662],\n",
       "       [ 16.        ,   0.78711727],\n",
       "       [ 17.        ,   0.8220665 ],\n",
       "       [ 18.        ,   0.86456497]])"
      ]
     },
     "execution_count": 35,
     "metadata": {},
     "output_type": "execute_result"
    }
   ],
   "source": [
    "np.array(list(enumerate(densities)))"
   ]
  }
 ],
 "metadata": {
  "kernelspec": {
   "display_name": "Python 2",
   "language": "python",
   "name": "python2"
  },
  "language_info": {
   "codemirror_mode": {
    "name": "ipython",
    "version": 2
   },
   "file_extension": ".py",
   "mimetype": "text/x-python",
   "name": "python",
   "nbconvert_exporter": "python",
   "pygments_lexer": "ipython2",
   "version": "2.7.9"
  }
 },
 "nbformat": 4,
 "nbformat_minor": 0
}
