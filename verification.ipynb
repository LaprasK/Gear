{
 "cells": [
  {
   "cell_type": "code",
   "execution_count": 1,
   "metadata": {
    "collapsed": true
   },
   "outputs": [],
   "source": [
    "import os.path\n",
    "from glob import glob\n",
    "import numpy as np"
   ]
  },
  {
   "cell_type": "code",
   "execution_count": 2,
   "metadata": {
    "collapsed": true
   },
   "outputs": [],
   "source": [
    "%matplotlib osx\n",
    "from matplotlib import pyplot as plt"
   ]
  },
  {
   "cell_type": "code",
   "execution_count": 3,
   "metadata": {
    "collapsed": false
   },
   "outputs": [],
   "source": [
    "import helpy, tracks, orientation as orient"
   ]
  },
  {
   "cell_type": "code",
   "execution_count": 4,
   "metadata": {
    "collapsed": true
   },
   "outputs": [],
   "source": [
    "home = '/Users/leewalsh/Physics/'\n",
    "def get_prefixes(particle, n=10):\n",
    "    if particle in 'SNV SQ BWd16. ISO':\n",
    "        dirname = home+'Squares/Sarah/Output/Dropbox_data_2015-10-02/'\n",
    "        paths = [\"{d}{p}{i}_d/{p}{i}\".format(d=dirname, p=particle, i=i+1) for i in xrange(n)]\n",
    "    elif particle in '69degree 71degree 73degree':\n",
    "        pattern = home+'Seagate4T-backup/Seagate4T_copy/Output/stats/{0}/{0}*run1_TRACKS.npz'\n",
    "        #paths = [ r[:-11] for s in sorted(glob(pattern.format(particle)) for r in glob(s[:-12]+'?_TRACKS.npz')][:n]\n",
    "        paths = [ [ r[:-11] for r in glob(s[:-12]+'?_TRACKS.npz') ][slice(n) if n>1 else 0]\n",
    "                 for s in sorted(glob(pattern.format(particle))) ]\n",
    "    return paths"
   ]
  },
  {
   "cell_type": "code",
   "execution_count": 5,
   "metadata": {
    "collapsed": false
   },
   "outputs": [],
   "source": [
    "def get_imfiles(particle, n='*'):\n",
    "    tiff_patterns = [\n",
    "        'Seagate4T-backup/Seagate4T_copy/tiffs/stats/{0}/{0}*????.tif',\n",
    "        'Squares/Sarah/Videos/{0}{1}/*_????.tif',\n",
    "        ]\n",
    "    tiff_patterns = [home+p.format(particle, n) for p in tiff_patterns]\n",
    "    imfiles = filter(None, map(glob, tiff_patterns))\n",
    "    if len(imfiles)==1:\n",
    "        return imfiles[0]\n",
    "    else:\n",
    "        return imfiles"
   ]
  },
  {
   "cell_type": "code",
   "execution_count": 6,
   "metadata": {
    "collapsed": true
   },
   "outputs": [],
   "source": [
    "particles = 'SNV SQ BWd16. ISO 69degree 71degree 73degree'.split()\n",
    "#alldata = {s: [helpy.load_data(p, 't c o') for p in get_prefixes(s)] for s in particles}\n",
    "#alltsets = {s: [helpy.load_tracksets(d[0], run_fill_gaps=False, run_track_orient=False, run_remove_dupes=True) for d in data] for s, data in alldata.iteritems()}"
   ]
  },
  {
   "cell_type": "code",
   "execution_count": 7,
   "metadata": {
    "collapsed": false
   },
   "outputs": [
    {
     "name": "stdout",
     "output_type": "stream",
     "text": [
      "7727\n"
     ]
    }
   ],
   "source": [
    "particle = 'BWd16.'\n",
    "run = 1\n",
    "runs = get_prefixes(particle)\n",
    "imfiles = get_imfiles(particle, run)\n",
    "print len(imfiles)"
   ]
  },
  {
   "cell_type": "code",
   "execution_count": 8,
   "metadata": {
    "collapsed": false
   },
   "outputs": [
    {
     "name": "stdout",
     "output_type": "stream",
     "text": [
      "Squares/Sarah/Output/Dropbox_data_2015-10-02/BWd16.1_d/BWd16.1\n"
     ]
    }
   ],
   "source": [
    "prefix = get_prefixes(particle, n=1)[0]\n",
    "print prefix.replace(home,'')"
   ]
  },
  {
   "cell_type": "code",
   "execution_count": null,
   "metadata": {
    "collapsed": false
   },
   "outputs": [],
   "source": [
    "print '\\n'.join(runs)"
   ]
  },
  {
   "cell_type": "code",
   "execution_count": null,
   "metadata": {
    "collapsed": false
   },
   "outputs": [],
   "source": [
    "print len(imfiles)\n",
    "print '\\n'.join(imfiles[:3])\n",
    "print '\\t...'\n",
    "print imfiles[-1]"
   ]
  },
  {
   "cell_type": "code",
   "execution_count": 18,
   "metadata": {
    "collapsed": false
   },
   "outputs": [
    {
     "name": "stdout",
     "output_type": "stream",
     "text": [
      "[Errno 2] No such file or directory: '/Users/leewalsh/Physics/Squares/Sarah/Output/Dropbox_data_2015-10-02/BWd16.1_d/BWd16.1_POSITIONS.npz'\n",
      "Found no positions npz file. Please run `tracks -l` to convert a POSITIONS.txt to POSITIONS.npzfile, or rerun `positions` on your tiffs\n"
     ]
    },
    {
     "ename": "IOError",
     "evalue": "[Errno 2] No such file or directory: '/Users/leewalsh/Physics/Squares/Sarah/Output/Dropbox_data_2015-10-02/BWd16.1_d/BWd16.1_POSITIONS.npz'",
     "output_type": "error",
     "traceback": [
      "\u001b[0;31m---------------------------------------------------------------------------\u001b[0m",
      "\u001b[0;31mIOError\u001b[0m                                   Traceback (most recent call last)",
      "\u001b[0;32m<ipython-input-18-e02bdc42303a>\u001b[0m in \u001b[0;36m<module>\u001b[0;34m()\u001b[0m\n\u001b[0;32m----> 1\u001b[0;31m \u001b[0mdata\u001b[0m \u001b[0;34m=\u001b[0m \u001b[0;34m[\u001b[0m\u001b[0mhelpy\u001b[0m\u001b[0;34m.\u001b[0m\u001b[0mload_data\u001b[0m\u001b[0;34m(\u001b[0m\u001b[0mp\u001b[0m\u001b[0;34m,\u001b[0m \u001b[0;34m't p c o'\u001b[0m\u001b[0;34m)\u001b[0m \u001b[0;32mfor\u001b[0m \u001b[0mp\u001b[0m \u001b[0;32min\u001b[0m \u001b[0mruns\u001b[0m\u001b[0;34m]\u001b[0m\u001b[0;34m\u001b[0m\u001b[0m\n\u001b[0m\u001b[1;32m      2\u001b[0m \u001b[0mtsets\u001b[0m \u001b[0;34m=\u001b[0m \u001b[0;34m[\u001b[0m\u001b[0mhelpy\u001b[0m\u001b[0;34m.\u001b[0m\u001b[0mload_tracksets\u001b[0m\u001b[0;34m(\u001b[0m\u001b[0md\u001b[0m\u001b[0;34m[\u001b[0m\u001b[0;36m0\u001b[0m\u001b[0;34m]\u001b[0m\u001b[0;34m,\u001b[0m \u001b[0mrun_fill_gaps\u001b[0m\u001b[0;34m=\u001b[0m\u001b[0mFalse\u001b[0m\u001b[0;34m,\u001b[0m \u001b[0mrun_track_orient\u001b[0m\u001b[0;34m=\u001b[0m\u001b[0mFalse\u001b[0m\u001b[0;34m,\u001b[0m \u001b[0mrun_remove_dupes\u001b[0m\u001b[0;34m=\u001b[0m\u001b[0mTrue\u001b[0m\u001b[0;34m)\u001b[0m \u001b[0;32mfor\u001b[0m \u001b[0md\u001b[0m \u001b[0;32min\u001b[0m \u001b[0mdata\u001b[0m\u001b[0;34m]\u001b[0m\u001b[0;34m\u001b[0m\u001b[0m\n",
      "\u001b[0;32m/Users/leewalsh/Physics/Squares/Tracking/helpy.pyc\u001b[0m in \u001b[0;36mload_data\u001b[0;34m(fullprefix, choices, verbose)\u001b[0m\n\u001b[1;32m    222\u001b[0m         \u001b[0mdatapath\u001b[0m \u001b[0;34m=\u001b[0m \u001b[0mfullprefix\u001b[0m\u001b[0;34m+\u001b[0m\u001b[0;34m'_'\u001b[0m\u001b[0;34m+\u001b[0m\u001b[0mname\u001b[0m\u001b[0;34m[\u001b[0m\u001b[0mc\u001b[0m\u001b[0;34m]\u001b[0m\u001b[0;34m.\u001b[0m\u001b[0mupper\u001b[0m\u001b[0;34m(\u001b[0m\u001b[0;34m)\u001b[0m\u001b[0;34m+\u001b[0m\u001b[0;34m'.npz'\u001b[0m\u001b[0;34m\u001b[0m\u001b[0m\n\u001b[1;32m    223\u001b[0m         \u001b[0;32mtry\u001b[0m\u001b[0;34m:\u001b[0m\u001b[0;34m\u001b[0m\u001b[0m\n\u001b[0;32m--> 224\u001b[0;31m             \u001b[0mnpzs\u001b[0m\u001b[0;34m[\u001b[0m\u001b[0mc\u001b[0m\u001b[0;34m]\u001b[0m \u001b[0;34m=\u001b[0m \u001b[0mnp\u001b[0m\u001b[0;34m.\u001b[0m\u001b[0mload\u001b[0m\u001b[0;34m(\u001b[0m\u001b[0mdatapath\u001b[0m\u001b[0;34m)\u001b[0m\u001b[0;34m\u001b[0m\u001b[0m\n\u001b[0m\u001b[1;32m    225\u001b[0m         \u001b[0;32mexcept\u001b[0m \u001b[0mIOError\u001b[0m \u001b[0;32mas\u001b[0m \u001b[0me\u001b[0m\u001b[0;34m:\u001b[0m\u001b[0;34m\u001b[0m\u001b[0m\n\u001b[1;32m    226\u001b[0m             \u001b[0;32mprint\u001b[0m \u001b[0me\u001b[0m\u001b[0;34m\u001b[0m\u001b[0m\n",
      "\u001b[0;32m/usr/local/lib/python2.7/site-packages/numpy/lib/npyio.pyc\u001b[0m in \u001b[0;36mload\u001b[0;34m(file, mmap_mode, allow_pickle, fix_imports, encoding)\u001b[0m\n\u001b[1;32m    360\u001b[0m     \u001b[0mown_fid\u001b[0m \u001b[0;34m=\u001b[0m \u001b[0mFalse\u001b[0m\u001b[0;34m\u001b[0m\u001b[0m\n\u001b[1;32m    361\u001b[0m     \u001b[0;32mif\u001b[0m \u001b[0misinstance\u001b[0m\u001b[0;34m(\u001b[0m\u001b[0mfile\u001b[0m\u001b[0;34m,\u001b[0m \u001b[0mbasestring\u001b[0m\u001b[0;34m)\u001b[0m\u001b[0;34m:\u001b[0m\u001b[0;34m\u001b[0m\u001b[0m\n\u001b[0;32m--> 362\u001b[0;31m         \u001b[0mfid\u001b[0m \u001b[0;34m=\u001b[0m \u001b[0mopen\u001b[0m\u001b[0;34m(\u001b[0m\u001b[0mfile\u001b[0m\u001b[0;34m,\u001b[0m \u001b[0;34m\"rb\"\u001b[0m\u001b[0;34m)\u001b[0m\u001b[0;34m\u001b[0m\u001b[0m\n\u001b[0m\u001b[1;32m    363\u001b[0m         \u001b[0mown_fid\u001b[0m \u001b[0;34m=\u001b[0m \u001b[0mTrue\u001b[0m\u001b[0;34m\u001b[0m\u001b[0m\n\u001b[1;32m    364\u001b[0m     \u001b[0;32melse\u001b[0m\u001b[0;34m:\u001b[0m\u001b[0;34m\u001b[0m\u001b[0m\n",
      "\u001b[0;31mIOError\u001b[0m: [Errno 2] No such file or directory: '/Users/leewalsh/Physics/Squares/Sarah/Output/Dropbox_data_2015-10-02/BWd16.1_d/BWd16.1_POSITIONS.npz'"
     ]
    }
   ],
   "source": [
    "data = [helpy.load_data(p, 't p c o') for p in runs]\n",
    "tsets = [helpy.load_tracksets(d[0], run_fill_gaps=False, run_track_orient=False, run_remove_dupes=True) for d in data]"
   ]
  },
  {
   "cell_type": "code",
   "execution_count": null,
   "metadata": {
    "collapsed": false
   },
   "outputs": [],
   "source": [
    "len(data), len(data[0])"
   ]
  },
  {
   "cell_type": "code",
   "execution_count": 10,
   "metadata": {
    "collapsed": false
   },
   "outputs": [],
   "source": [
    "imfiles = get_imfiles(particle, 1)\n",
    "imstack = map(plt.imread, imfiles[:100])"
   ]
  },
  {
   "cell_type": "code",
   "execution_count": 11,
   "metadata": {
    "collapsed": false
   },
   "outputs": [],
   "source": [
    "r_s = { '69degree': (10, 15.5),\n",
    "        '71degree': (10, 15.5),\n",
    "        '73degree': (9,  18),\n",
    "        'vertically-symmetric-square':  (9.14, 20.5),\n",
    "        'Wedge': (9.14, 20.5),}\n",
    "try:\n",
    "    rc, side = r_s[particle]\n",
    "except KeyError:\n",
    "    rc, side = 0, 15"
   ]
  },
  {
   "cell_type": "code",
   "execution_count": null,
   "metadata": {
    "collapsed": true
   },
   "outputs": [],
   "source": [
    "#p = plt.imshow(plt.imread(imfiles[prefixes(person, particle)[0]), origin='upper')\n",
    "#q = plt.quiver(y[omask], x[omask], np.sin(o[omask]), np.cos(o[omask]))"
   ]
  },
  {
   "cell_type": "code",
   "execution_count": 12,
   "metadata": {
    "collapsed": true
   },
   "outputs": [],
   "source": [
    "fsets = helpy.splitter(data[0][0])\n",
    "fpsets = helpy.splitter(data[0][1])\n",
    "fcsets = helpy.splitter(data[0][2])\n",
    "fosets = helpy.splitter(data[0][3], data[0][0]['f'])"
   ]
  },
  {
   "cell_type": "code",
   "execution_count": 16,
   "metadata": {
    "collapsed": false
   },
   "outputs": [],
   "source": [
    "reload(tracks)\n",
    "tracks.animate_detection(imstack, fsets, fcsets, fosets, rc=rc, side=side, verbose=False)"
   ]
  },
  {
   "cell_type": "code",
   "execution_count": null,
   "metadata": {
    "collapsed": false
   },
   "outputs": [],
   "source": [
    "tracks.gapsize_distro(tsets)"
   ]
  },
  {
   "cell_type": "code",
   "execution_count": 17,
   "metadata": {
    "collapsed": false
   },
   "outputs": [
    {
     "data": {
      "text/plain": [
       "array([(0L, 0, -1, 46.79199981689453, 464.19500732421875, nan),\n",
       "       (1L, 0, -1, 63.018001556396484, 439.24798583984375, 6.124547958374023)], \n",
       "      dtype=[('id', '<u4'), ('f', '<u2'), ('t', '<i4'), ('x', '<f4'), ('y', '<f4'), ('o', '<f4')])"
      ]
     },
     "execution_count": 17,
     "metadata": {},
     "output_type": "execute_result"
    }
   ],
   "source": [
    "fsets[0][:2]"
   ]
  },
  {
   "cell_type": "code",
   "execution_count": null,
   "metadata": {
    "collapsed": true
   },
   "outputs": [],
   "source": [
    "f = 5\n",
    "dots = []\n",
    "for point in fpsets[f]:\n",
    "    \n",
    "    "
   ]
  }
 ],
 "metadata": {
  "kernelspec": {
   "display_name": "Python 2",
   "language": "python",
   "name": "python2"
  },
  "language_info": {
   "codemirror_mode": {
    "name": "ipython",
    "version": 2
   },
   "file_extension": ".py",
   "mimetype": "text/x-python",
   "name": "python",
   "nbconvert_exporter": "python",
   "pygments_lexer": "ipython2",
   "version": "2.7.11"
  }
 },
 "nbformat": 4,
 "nbformat_minor": 0
}
