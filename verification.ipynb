{
 "cells": [
  {
   "cell_type": "code",
   "execution_count": null,
   "metadata": {
    "collapsed": true
   },
   "outputs": [],
   "source": [
    "import os.path\n",
    "from glob import glob\n",
    "import numpy as np"
   ]
  },
  {
   "cell_type": "code",
   "execution_count": null,
   "metadata": {
    "collapsed": true
   },
   "outputs": [],
   "source": [
    "%matplotlib osx\n",
    "from matplotlib import pyplot as plt"
   ]
  },
  {
   "cell_type": "code",
   "execution_count": null,
   "metadata": {
    "collapsed": false
   },
   "outputs": [],
   "source": [
    "import helpy, tracks, orientation as orient"
   ]
  },
  {
   "cell_type": "code",
   "execution_count": null,
   "metadata": {
    "collapsed": true
   },
   "outputs": [],
   "source": [
    "home = '/Users/leewalsh/Physics/'\n",
    "def prefixes(particle, n=10):\n",
    "    if particle in 'SNV SQ BWd16. ISO':\n",
    "        dirname = home+'Squares/Sarah/Dropbox_data_2015-10-02/'\n",
    "        paths = [\"{d}{p}{i}_d/{p}{i}\".format(d=dirname, p=particle, i=i+1) for i in xrange(n)]\n",
    "    elif particle in '69degree 71degree 73degree':\n",
    "        pattern = home+'chris-seagate-backup/Seagate Expansion Drive/Output/stats_movies/{0}/{0}*run1_TRACKS.npz'\n",
    "        #paths = [ r[:-11] for s in sorted(glob(pattern.format(particle)) for r in glob(s[:-12]+'?_TRACKS.npz')][:n]\n",
    "        paths = [ [ r[:-11] for r in glob(s[:-12]+'?_TRACKS.npz') ][slice(n) if n>1 else 0]\n",
    "                 for s in sorted(glob(pattern.format(particle))) ]\n",
    "    return paths"
   ]
  },
  {
   "cell_type": "code",
   "execution_count": null,
   "metadata": {
    "collapsed": true
   },
   "outputs": [],
   "source": [
    "particles = 'SNV SQ BWd16. ISO 69degree 71degree 73degree'.split()\n",
    "#alldata = {s: [helpy.load_data(p, 't c o') for p in prefixes(s)] for s in particles}\n",
    "#alltsets = {s: [helpy.load_tracksets(d[0], run_fill_gaps=False, run_track_orient=False, run_remove_dupes=True) for d in data] for s, data in alldata.iteritems()}"
   ]
  },
  {
   "cell_type": "code",
   "execution_count": null,
   "metadata": {
    "collapsed": false
   },
   "outputs": [
    {
     "name": "stdout",
     "output_type": "stream",
     "text": [
      "./chris-seagate-backup/Seagate Expansion Drive/Output/stats_movies/69degree/69degree_v1point0_100mv_50hz_run1\n"
     ]
    }
   ],
   "source": [
    "particle = '69degree'\n",
    "prefix = prefixes(particle, n=1)[0]\n",
    "print prefix.replace(home,'./')"
   ]
  },
  {
   "cell_type": "code",
   "execution_count": null,
   "metadata": {
    "collapsed": false
   },
   "outputs": [],
   "source": [
    "r_s = { '69degree': (10, 15.5),\n",
    "        '71degree': (10, 15.5),\n",
    "        '73degree': (9,  18),\n",
    "        'vertically-symmetric-square':  (9.14, 20.5),\n",
    "        'Wedge': (9.14, 20.5),}\n",
    "rc, side = r_s[particle]"
   ]
  },
  {
   "cell_type": "code",
   "execution_count": null,
   "metadata": {
    "collapsed": true
   },
   "outputs": [],
   "source": [
    "data = [helpy.load_data(p, 't c o') for p in prefixes(particle)[0]]\n",
    "#tsets = [helpy.load_tracksets(d[0], run_fill_gaps=False, run_track_orient=False, run_remove_dupes=True) for d in data]\n",
    "imfiles = [glob(s.replace('Output/stats_movies', 'tiffs/New_Stats_Movies') + '/*.tif') for s in prefixes(particle)[0]]"
   ]
  },
  {
   "cell_type": "code",
   "execution_count": null,
   "metadata": {
    "collapsed": true
   },
   "outputs": [],
   "source": [
    "imstack = np.concatenate([plt.imread(imfile)[None] for imfile in imfiles[0][:100]])"
   ]
  },
  {
   "cell_type": "code",
   "execution_count": null,
   "metadata": {
    "collapsed": true
   },
   "outputs": [],
   "source": [
    "#p = plt.imshow(plt.imread(imfiles[prefixes(person, particle)[0]), origin='upper')\n",
    "#q = plt.quiver(y[omask], x[omask], np.sin(o[omask]), np.cos(o[omask]))"
   ]
  },
  {
   "cell_type": "code",
   "execution_count": null,
   "metadata": {
    "collapsed": true
   },
   "outputs": [],
   "source": [
    "fsets = helpy.splitter(data[0][0])\n",
    "fcsets = helpy.splitter(data[0][1])\n",
    "fosets = helpy.splitter(data[0][2], data[0][0]['f'])"
   ]
  },
  {
   "cell_type": "code",
   "execution_count": null,
   "metadata": {
    "collapsed": false
   },
   "outputs": [],
   "source": [
    "reload(tracks)\n",
    "tracks.animate_detection(imstack, fsets, fcsets, fosets, rc=rc, side=side, verbose=True)"
   ]
  },
  {
   "cell_type": "code",
   "execution_count": null,
   "metadata": {
    "collapsed": true
   },
   "outputs": [],
   "source": [
    "tracks.gapsize_distro()"
   ]
  }
 ],
 "metadata": {
  "kernelspec": {
   "display_name": "Python 2",
   "language": "python",
   "name": "python2"
  },
  "language_info": {
   "codemirror_mode": {
    "name": "ipython",
    "version": 2
   },
   "file_extension": ".py",
   "mimetype": "text/x-python",
   "name": "python",
   "nbconvert_exporter": "python",
   "pygments_lexer": "ipython2",
   "version": "2.7.11"
  }
 },
 "nbformat": 4,
 "nbformat_minor": 0
}
